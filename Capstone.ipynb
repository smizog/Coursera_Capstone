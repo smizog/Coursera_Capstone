{
    "cells": [
        {
            "metadata": {},
<<<<<<< HEAD
            "source": [
                "This file will be used mainly for the Coursera Applied Data Science Capstone"
            ]
        },
        {
            "cell_type": "code",
            "execution_count": 8,
=======
            "cell_type": "markdown",
            "source": "This file will be used mainly for the Coursera Applied Data Science Capstone"
        },
        {
            "metadata": {},
            "cell_type": "code",
            "source": "# import stuff\n\nimport pandas as pd\nimport numpy as np\n",
            "execution_count": 5,
            "outputs": []
        },
        {
>>>>>>> 5a18b32e3d0b4335f2c186154e3897ab8131f924
            "metadata": {},
            "cell_type": "code",
            "source": "print(\"Hello Capstone Project Course\")",
            "execution_count": 8,
            "outputs": [
                {
<<<<<<< HEAD
                    "output_type": "error",
                    "ename": "ModuleNotFoundError",
                    "evalue": "No module named 'pandas'",
                    "traceback": [
                        "\u001b[1;31m---------------------------------------------------------------------------\u001b[0m",
                        "\u001b[1;31mModuleNotFoundError\u001b[0m                       Traceback (most recent call last)",
                        "\u001b[1;32m<ipython-input-8-00bfdfdebd39>\u001b[0m in \u001b[0;36m<module>\u001b[1;34m\u001b[0m\n\u001b[0;32m      1\u001b[0m \u001b[1;31m# import stuff\u001b[0m\u001b[1;33m\u001b[0m\u001b[1;33m\u001b[0m\u001b[1;33m\u001b[0m\u001b[0m\n\u001b[0;32m      2\u001b[0m \u001b[1;33m\u001b[0m\u001b[0m\n\u001b[1;32m----> 3\u001b[1;33m \u001b[1;32mimport\u001b[0m \u001b[0mpandas\u001b[0m \u001b[1;32mas\u001b[0m \u001b[0mpd\u001b[0m\u001b[1;33m\u001b[0m\u001b[1;33m\u001b[0m\u001b[0m\n\u001b[0m\u001b[0;32m      4\u001b[0m \u001b[1;32mimport\u001b[0m \u001b[0mnumpy\u001b[0m \u001b[1;32mas\u001b[0m \u001b[0mnp\u001b[0m\u001b[1;33m\u001b[0m\u001b[1;33m\u001b[0m\u001b[0m\n",
                        "\u001b[1;31mModuleNotFoundError\u001b[0m: No module named 'pandas'"
                    ]
                }
            ],
            "source": [
                "# import stuff\n",
                "\n",
                "import pandas as pd\n",
                "import numpy as np\n"
            ]
        },
        {
            "cell_type": "code",
            "execution_count": null,
            "metadata": {},
            "outputs": [],
            "source": [
                "df = pd.read_csv(r\"C:\\\\Users\\\\mizog\\\\Documents\\\\Coursera\\\\Applied Data Specialization\\\\Applied Data Science Capstone\")\n",
                "df.head()"
=======
                    "output_type": "stream",
                    "text": "Hello Capstone Project Course\n",
                    "name": "stdout"
                }
>>>>>>> 5a18b32e3d0b4335f2c186154e3897ab8131f924
            ]
        },
        {
            "metadata": {
                "scrolled": false
            },
            "cell_type": "code",
            "source": "\n",
            "execution_count": null,
            "outputs": []
        },
        {
            "metadata": {},
<<<<<<< HEAD
            "outputs": [],
            "source": []
=======
            "cell_type": "code",
            "source": "",
            "execution_count": null,
            "outputs": []
>>>>>>> 5a18b32e3d0b4335f2c186154e3897ab8131f924
        }
    ],
    "metadata": {
        "kernelspec": {
<<<<<<< HEAD
            "display_name": "Python 3.8.2 32-bit",
            "language": "python",
            "name": "python38232bit638451a914c04aa5a49c279965cd527f"
=======
            "name": "python3",
            "display_name": "Python 3.6",
            "language": "python"
>>>>>>> 5a18b32e3d0b4335f2c186154e3897ab8131f924
        },
        "language_info": {
            "name": "python",
            "version": "3.6.9",
            "mimetype": "text/x-python",
            "codemirror_mode": {
                "name": "ipython",
                "version": 3
            },
            "pygments_lexer": "ipython3",
<<<<<<< HEAD
            "version": "3.8.2-final"
=======
            "nbconvert_exporter": "python",
            "file_extension": ".py"
>>>>>>> 5a18b32e3d0b4335f2c186154e3897ab8131f924
        }
    },
    "nbformat": 4,
    "nbformat_minor": 1
}