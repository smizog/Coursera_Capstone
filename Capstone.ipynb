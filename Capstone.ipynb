{
    "cells": [
        {
            "metadata": {},
            "source": [
                "This file will be used mainly for the Coursera Applied Data Science Capstone"
            ]
        },
        {
            "source": [
                "<h1>Predicting the severity of car accidents in Seattle</h1>"
            ],
            "cell_type": "markdown",
            "metadata": {}
        },
        {
            "source": [
                "<h2>\n",
                "    The Business Problem\n",
                "</h2>\n",
                "\n",
                "<h4>\n",
                "    The problem we have at hand is to predict the severity of accidents that occur in Seattle. The target for this problem is everybody who travels along the streets of Seattle. \n",
                "    The project will show them what factors may increase or decrease the potential severity of an accident. Knowing this information will allow them to take precautions to\n",
                "    make sure that they are lowering the potential harm that they may come to. \n",
                "</h4>"
            ],
            "cell_type": "markdown",
            "metadata": {}
        },
        {
            "source": [
                "<h2>\n",
                "Description of the Data\n",
                "</h2>"
            ],
            "cell_type": "markdown",
            "metadata": {}
        },
        {
            "cell_type": "code",
            "execution_count": 2,
            "metadata": {},
            "source": [
                "# import stuff\n",
                "\n",
                "import pandas as pd\n",
                "import numpy as np\n",
                "import matplotlib as mpl\n",
                "import matplotlib.pyplot as plt\n",
                "from matplotlib.backends.backend_agg import FigureCanvasAgg as FigureCanvas\n",
                "from matplotlib.figure import Figure\n"
            ],
            "outputs": []
        },
        {
            "cell_type": "code",
            "execution_count": 3,
            "metadata": {},
            "outputs": [
                {
                    "output_type": "execute_result",
                    "data": {
                        "text/plain": [
                            "   SEVERITYCODE           X          Y  OBJECTID  INCKEY  COLDETKEY REPORTNO  \\\n",
                            "0             2 -122.323148  47.703140         1    1307       1307  3502005   \n",
                            "1             1 -122.347294  47.647172         2   52200      52200  2607959   \n",
                            "2             1 -122.334540  47.607871         3   26700      26700  1482393   \n",
                            "3             1 -122.334803  47.604803         4    1144       1144  3503937   \n",
                            "4             2 -122.306426  47.545739         5   17700      17700  1807429   \n",
                            "\n",
                            "    STATUS      ADDRTYPE   INTKEY  ... ROADCOND                LIGHTCOND  \\\n",
                            "0  Matched  Intersection  37475.0  ...      Wet                 Daylight   \n",
                            "1  Matched         Block      NaN  ...      Wet  Dark - Street Lights On   \n",
                            "2  Matched         Block      NaN  ...      Dry                 Daylight   \n",
                            "3  Matched         Block      NaN  ...      Dry                 Daylight   \n",
                            "4  Matched  Intersection  34387.0  ...      Wet                 Daylight   \n",
                            "\n",
                            "  PEDROWNOTGRNT  SDOTCOLNUM SPEEDING ST_COLCODE  \\\n",
                            "0           NaN         NaN      NaN         10   \n",
                            "1           NaN   6354039.0      NaN         11   \n",
                            "2           NaN   4323031.0      NaN         32   \n",
                            "3           NaN         NaN      NaN         23   \n",
                            "4           NaN   4028032.0      NaN         10   \n",
                            "\n",
                            "                                          ST_COLDESC  SEGLANEKEY  \\\n",
                            "0                                  Entering at angle           0   \n",
                            "1  From same direction - both going straight - bo...           0   \n",
                            "2                             One parked--one moving           0   \n",
                            "3                   From same direction - all others           0   \n",
                            "4                                  Entering at angle           0   \n",
                            "\n",
                            "   CROSSWALKKEY  HITPARKEDCAR  \n",
                            "0             0             N  \n",
                            "1             0             N  \n",
                            "2             0             N  \n",
                            "3             0             N  \n",
                            "4             0             N  \n",
                            "\n",
                            "[5 rows x 38 columns]"
                        ],
                        "text/html": "<div>\n<style scoped>\n    .dataframe tbody tr th:only-of-type {\n        vertical-align: middle;\n    }\n\n    .dataframe tbody tr th {\n        vertical-align: top;\n    }\n\n    .dataframe thead th {\n        text-align: right;\n    }\n</style>\n<table border=\"1\" class=\"dataframe\">\n  <thead>\n    <tr style=\"text-align: right;\">\n      <th></th>\n      <th>SEVERITYCODE</th>\n      <th>X</th>\n      <th>Y</th>\n      <th>OBJECTID</th>\n      <th>INCKEY</th>\n      <th>COLDETKEY</th>\n      <th>REPORTNO</th>\n      <th>STATUS</th>\n      <th>ADDRTYPE</th>\n      <th>INTKEY</th>\n      <th>...</th>\n      <th>ROADCOND</th>\n      <th>LIGHTCOND</th>\n      <th>PEDROWNOTGRNT</th>\n      <th>SDOTCOLNUM</th>\n      <th>SPEEDING</th>\n      <th>ST_COLCODE</th>\n      <th>ST_COLDESC</th>\n      <th>SEGLANEKEY</th>\n      <th>CROSSWALKKEY</th>\n      <th>HITPARKEDCAR</th>\n    </tr>\n  </thead>\n  <tbody>\n    <tr>\n      <th>0</th>\n      <td>2</td>\n      <td>-122.323148</td>\n      <td>47.703140</td>\n      <td>1</td>\n      <td>1307</td>\n      <td>1307</td>\n      <td>3502005</td>\n      <td>Matched</td>\n      <td>Intersection</td>\n      <td>37475.0</td>\n      <td>...</td>\n      <td>Wet</td>\n      <td>Daylight</td>\n      <td>NaN</td>\n      <td>NaN</td>\n      <td>NaN</td>\n      <td>10</td>\n      <td>Entering at angle</td>\n      <td>0</td>\n      <td>0</td>\n      <td>N</td>\n    </tr>\n    <tr>\n      <th>1</th>\n      <td>1</td>\n      <td>-122.347294</td>\n      <td>47.647172</td>\n      <td>2</td>\n      <td>52200</td>\n      <td>52200</td>\n      <td>2607959</td>\n      <td>Matched</td>\n      <td>Block</td>\n      <td>NaN</td>\n      <td>...</td>\n      <td>Wet</td>\n      <td>Dark - Street Lights On</td>\n      <td>NaN</td>\n      <td>6354039.0</td>\n      <td>NaN</td>\n      <td>11</td>\n      <td>From same direction - both going straight - bo...</td>\n      <td>0</td>\n      <td>0</td>\n      <td>N</td>\n    </tr>\n    <tr>\n      <th>2</th>\n      <td>1</td>\n      <td>-122.334540</td>\n      <td>47.607871</td>\n      <td>3</td>\n      <td>26700</td>\n      <td>26700</td>\n      <td>1482393</td>\n      <td>Matched</td>\n      <td>Block</td>\n      <td>NaN</td>\n      <td>...</td>\n      <td>Dry</td>\n      <td>Daylight</td>\n      <td>NaN</td>\n      <td>4323031.0</td>\n      <td>NaN</td>\n      <td>32</td>\n      <td>One parked--one moving</td>\n      <td>0</td>\n      <td>0</td>\n      <td>N</td>\n    </tr>\n    <tr>\n      <th>3</th>\n      <td>1</td>\n      <td>-122.334803</td>\n      <td>47.604803</td>\n      <td>4</td>\n      <td>1144</td>\n      <td>1144</td>\n      <td>3503937</td>\n      <td>Matched</td>\n      <td>Block</td>\n      <td>NaN</td>\n      <td>...</td>\n      <td>Dry</td>\n      <td>Daylight</td>\n      <td>NaN</td>\n      <td>NaN</td>\n      <td>NaN</td>\n      <td>23</td>\n      <td>From same direction - all others</td>\n      <td>0</td>\n      <td>0</td>\n      <td>N</td>\n    </tr>\n    <tr>\n      <th>4</th>\n      <td>2</td>\n      <td>-122.306426</td>\n      <td>47.545739</td>\n      <td>5</td>\n      <td>17700</td>\n      <td>17700</td>\n      <td>1807429</td>\n      <td>Matched</td>\n      <td>Intersection</td>\n      <td>34387.0</td>\n      <td>...</td>\n      <td>Wet</td>\n      <td>Daylight</td>\n      <td>NaN</td>\n      <td>4028032.0</td>\n      <td>NaN</td>\n      <td>10</td>\n      <td>Entering at angle</td>\n      <td>0</td>\n      <td>0</td>\n      <td>N</td>\n    </tr>\n  </tbody>\n</table>\n<p>5 rows × 38 columns</p>\n</div>"
                    },
                    "metadata": {},
                    "execution_count": 3
                }
            ],
            "source": [
                "# Pulling in the data\n",
                "\n",
                "df = pd.read_csv(\"Data-Collisions.csv\")\n",
                "df.head()"
            ]
        },
        {
            "cell_type": "code",
            "execution_count": 4,
            "metadata": {},
            "outputs": [
                {
                    "output_type": "execute_result",
                    "data": {
                        "text/plain": [
                            "SEVERITYCODE        int64\n",
                            "X                 float64\n",
                            "Y                 float64\n",
                            "OBJECTID            int64\n",
                            "INCKEY              int64\n",
                            "COLDETKEY           int64\n",
                            "REPORTNO           object\n",
                            "STATUS             object\n",
                            "ADDRTYPE           object\n",
                            "INTKEY            float64\n",
                            "LOCATION           object\n",
                            "EXCEPTRSNCODE      object\n",
                            "EXCEPTRSNDESC      object\n",
                            "SEVERITYCODE.1      int64\n",
                            "SEVERITYDESC       object\n",
                            "COLLISIONTYPE      object\n",
                            "PERSONCOUNT         int64\n",
                            "PEDCOUNT            int64\n",
                            "PEDCYLCOUNT         int64\n",
                            "VEHCOUNT            int64\n",
                            "INCDATE            object\n",
                            "INCDTTM            object\n",
                            "JUNCTIONTYPE       object\n",
                            "SDOT_COLCODE        int64\n",
                            "SDOT_COLDESC       object\n",
                            "INATTENTIONIND     object\n",
                            "UNDERINFL          object\n",
                            "WEATHER            object\n",
                            "ROADCOND           object\n",
                            "LIGHTCOND          object\n",
                            "PEDROWNOTGRNT      object\n",
                            "SDOTCOLNUM        float64\n",
                            "SPEEDING           object\n",
                            "ST_COLCODE         object\n",
                            "ST_COLDESC         object\n",
                            "SEGLANEKEY          int64\n",
                            "CROSSWALKKEY        int64\n",
                            "HITPARKEDCAR       object\n",
                            "dtype: object"
                        ]
                    },
                    "metadata": {},
                    "execution_count": 4
                }
            ],
            "source": [
                "df.dtypes"
            ]
        },
        {
            "metadata": {},
            "source": []
        },
        {
            "source": [
                "\n",
                "Given what we are trying to predict, there are a number of vairables that we can look at to try to predict various outcomes. However, looking at all of them would result in an unwieldy solution. So, I have decided to be focusing on the variables below:\n",
                "\n",
                "\n",
                "<ul>\n",
                "    <li>COLLISIONTYPE</li>\n",
                "    <li>WEATHER</li>\n",
                "    <li>SPEEDING</li>\n",
                "    <li>ROADCOND</li>\n",
                "    <li>LIGHTCOND</li>\n",
                "    <li>SEVERITYCODE</li>\n",
                "</ul>\n",
                "\n"
            ],
            "cell_type": "markdown",
            "metadata": {}
        },
        {
            "source": [
                "Below we pull out the data we will be looking at"
            ],
            "cell_type": "markdown",
            "metadata": {}
        },
        {
            "cell_type": "code",
            "execution_count": 5,
            "metadata": {},
            "outputs": [
                {
                    "output_type": "execute_result",
                    "data": {
                        "text/plain": [
                            "  COLLISIONTYPE   WEATHER SPEEDING ROADCOND                LIGHTCOND  \\\n",
                            "0        Angles  Overcast      NaN      Wet                 Daylight   \n",
                            "1     Sideswipe   Raining      NaN      Wet  Dark - Street Lights On   \n",
                            "2    Parked Car  Overcast      NaN      Dry                 Daylight   \n",
                            "3         Other     Clear      NaN      Dry                 Daylight   \n",
                            "4        Angles   Raining      NaN      Wet                 Daylight   \n",
                            "5        Angles     Clear      NaN      Dry                 Daylight   \n",
                            "6        Angles   Raining      NaN      Wet                 Daylight   \n",
                            "7        Cycles     Clear      NaN      Dry                 Daylight   \n",
                            "8    Parked Car     Clear      NaN      Dry                 Daylight   \n",
                            "9        Angles     Clear      NaN      Dry                 Daylight   \n",
                            "\n",
                            "   SEVERITYCODE  \n",
                            "0             2  \n",
                            "1             1  \n",
                            "2             1  \n",
                            "3             1  \n",
                            "4             2  \n",
                            "5             1  \n",
                            "6             1  \n",
                            "7             2  \n",
                            "8             1  \n",
                            "9             2  "
                        ],
                        "text/html": "<div>\n<style scoped>\n    .dataframe tbody tr th:only-of-type {\n        vertical-align: middle;\n    }\n\n    .dataframe tbody tr th {\n        vertical-align: top;\n    }\n\n    .dataframe thead th {\n        text-align: right;\n    }\n</style>\n<table border=\"1\" class=\"dataframe\">\n  <thead>\n    <tr style=\"text-align: right;\">\n      <th></th>\n      <th>COLLISIONTYPE</th>\n      <th>WEATHER</th>\n      <th>SPEEDING</th>\n      <th>ROADCOND</th>\n      <th>LIGHTCOND</th>\n      <th>SEVERITYCODE</th>\n    </tr>\n  </thead>\n  <tbody>\n    <tr>\n      <th>0</th>\n      <td>Angles</td>\n      <td>Overcast</td>\n      <td>NaN</td>\n      <td>Wet</td>\n      <td>Daylight</td>\n      <td>2</td>\n    </tr>\n    <tr>\n      <th>1</th>\n      <td>Sideswipe</td>\n      <td>Raining</td>\n      <td>NaN</td>\n      <td>Wet</td>\n      <td>Dark - Street Lights On</td>\n      <td>1</td>\n    </tr>\n    <tr>\n      <th>2</th>\n      <td>Parked Car</td>\n      <td>Overcast</td>\n      <td>NaN</td>\n      <td>Dry</td>\n      <td>Daylight</td>\n      <td>1</td>\n    </tr>\n    <tr>\n      <th>3</th>\n      <td>Other</td>\n      <td>Clear</td>\n      <td>NaN</td>\n      <td>Dry</td>\n      <td>Daylight</td>\n      <td>1</td>\n    </tr>\n    <tr>\n      <th>4</th>\n      <td>Angles</td>\n      <td>Raining</td>\n      <td>NaN</td>\n      <td>Wet</td>\n      <td>Daylight</td>\n      <td>2</td>\n    </tr>\n    <tr>\n      <th>5</th>\n      <td>Angles</td>\n      <td>Clear</td>\n      <td>NaN</td>\n      <td>Dry</td>\n      <td>Daylight</td>\n      <td>1</td>\n    </tr>\n    <tr>\n      <th>6</th>\n      <td>Angles</td>\n      <td>Raining</td>\n      <td>NaN</td>\n      <td>Wet</td>\n      <td>Daylight</td>\n      <td>1</td>\n    </tr>\n    <tr>\n      <th>7</th>\n      <td>Cycles</td>\n      <td>Clear</td>\n      <td>NaN</td>\n      <td>Dry</td>\n      <td>Daylight</td>\n      <td>2</td>\n    </tr>\n    <tr>\n      <th>8</th>\n      <td>Parked Car</td>\n      <td>Clear</td>\n      <td>NaN</td>\n      <td>Dry</td>\n      <td>Daylight</td>\n      <td>1</td>\n    </tr>\n    <tr>\n      <th>9</th>\n      <td>Angles</td>\n      <td>Clear</td>\n      <td>NaN</td>\n      <td>Dry</td>\n      <td>Daylight</td>\n      <td>2</td>\n    </tr>\n  </tbody>\n</table>\n</div>"
                    },
                    "metadata": {},
                    "execution_count": 5
                }
            ],
            "source": [
                "# Table with just the data that we need to use\n",
                "df_data = df[['COLLISIONTYPE','WEATHER','SPEEDING','ROADCOND','LIGHTCOND','SEVERITYCODE']]\n",
                "df_data.head(10)"
            ]
        },
        {
            "source": [
                "Change the NaN values in SPEEDING to 'N' to signify no"
            ],
            "cell_type": "markdown",
            "metadata": {}
        },
        {
            "cell_type": "code",
            "execution_count": 6,
            "metadata": {},
            "outputs": [
                {
                    "output_type": "execute_result",
                    "data": {
                        "text/plain": [
                            "       COLLISIONTYPE   WEATHER SPEEDING ROADCOND                LIGHTCOND  \\\n",
                            "0             Angles  Overcast        N      Wet                 Daylight   \n",
                            "1          Sideswipe   Raining        N      Wet  Dark - Street Lights On   \n",
                            "2         Parked Car  Overcast        N      Dry                 Daylight   \n",
                            "3              Other     Clear        N      Dry                 Daylight   \n",
                            "4             Angles   Raining        N      Wet                 Daylight   \n",
                            "...              ...       ...      ...      ...                      ...   \n",
                            "194668       Head On     Clear        N      Dry                 Daylight   \n",
                            "194669    Rear Ended   Raining        N      Wet                 Daylight   \n",
                            "194670     Left Turn     Clear        N      Dry                 Daylight   \n",
                            "194671        Cycles     Clear        N      Dry                     Dusk   \n",
                            "194672    Rear Ended     Clear        N      Wet                 Daylight   \n",
                            "\n",
                            "        SEVERITYCODE  \n",
                            "0                  2  \n",
                            "1                  1  \n",
                            "2                  1  \n",
                            "3                  1  \n",
                            "4                  2  \n",
                            "...              ...  \n",
                            "194668             2  \n",
                            "194669             1  \n",
                            "194670             2  \n",
                            "194671             2  \n",
                            "194672             1  \n",
                            "\n",
                            "[194673 rows x 6 columns]"
                        ],
                        "text/html": "<div>\n<style scoped>\n    .dataframe tbody tr th:only-of-type {\n        vertical-align: middle;\n    }\n\n    .dataframe tbody tr th {\n        vertical-align: top;\n    }\n\n    .dataframe thead th {\n        text-align: right;\n    }\n</style>\n<table border=\"1\" class=\"dataframe\">\n  <thead>\n    <tr style=\"text-align: right;\">\n      <th></th>\n      <th>COLLISIONTYPE</th>\n      <th>WEATHER</th>\n      <th>SPEEDING</th>\n      <th>ROADCOND</th>\n      <th>LIGHTCOND</th>\n      <th>SEVERITYCODE</th>\n    </tr>\n  </thead>\n  <tbody>\n    <tr>\n      <th>0</th>\n      <td>Angles</td>\n      <td>Overcast</td>\n      <td>N</td>\n      <td>Wet</td>\n      <td>Daylight</td>\n      <td>2</td>\n    </tr>\n    <tr>\n      <th>1</th>\n      <td>Sideswipe</td>\n      <td>Raining</td>\n      <td>N</td>\n      <td>Wet</td>\n      <td>Dark - Street Lights On</td>\n      <td>1</td>\n    </tr>\n    <tr>\n      <th>2</th>\n      <td>Parked Car</td>\n      <td>Overcast</td>\n      <td>N</td>\n      <td>Dry</td>\n      <td>Daylight</td>\n      <td>1</td>\n    </tr>\n    <tr>\n      <th>3</th>\n      <td>Other</td>\n      <td>Clear</td>\n      <td>N</td>\n      <td>Dry</td>\n      <td>Daylight</td>\n      <td>1</td>\n    </tr>\n    <tr>\n      <th>4</th>\n      <td>Angles</td>\n      <td>Raining</td>\n      <td>N</td>\n      <td>Wet</td>\n      <td>Daylight</td>\n      <td>2</td>\n    </tr>\n    <tr>\n      <th>...</th>\n      <td>...</td>\n      <td>...</td>\n      <td>...</td>\n      <td>...</td>\n      <td>...</td>\n      <td>...</td>\n    </tr>\n    <tr>\n      <th>194668</th>\n      <td>Head On</td>\n      <td>Clear</td>\n      <td>N</td>\n      <td>Dry</td>\n      <td>Daylight</td>\n      <td>2</td>\n    </tr>\n    <tr>\n      <th>194669</th>\n      <td>Rear Ended</td>\n      <td>Raining</td>\n      <td>N</td>\n      <td>Wet</td>\n      <td>Daylight</td>\n      <td>1</td>\n    </tr>\n    <tr>\n      <th>194670</th>\n      <td>Left Turn</td>\n      <td>Clear</td>\n      <td>N</td>\n      <td>Dry</td>\n      <td>Daylight</td>\n      <td>2</td>\n    </tr>\n    <tr>\n      <th>194671</th>\n      <td>Cycles</td>\n      <td>Clear</td>\n      <td>N</td>\n      <td>Dry</td>\n      <td>Dusk</td>\n      <td>2</td>\n    </tr>\n    <tr>\n      <th>194672</th>\n      <td>Rear Ended</td>\n      <td>Clear</td>\n      <td>N</td>\n      <td>Wet</td>\n      <td>Daylight</td>\n      <td>1</td>\n    </tr>\n  </tbody>\n</table>\n<p>194673 rows × 6 columns</p>\n</div>"
                    },
                    "metadata": {},
                    "execution_count": 6
                }
            ],
            "source": [
                "df_data['SPEEDING'].fillna('N', inplace = True)\n",
                "df_data"
            ]
        },
        {
            "source": [
                "As a preliminary investigation, let's compare all of the variables to the severity to see if we can find any correlation between them."
            ],
            "cell_type": "markdown",
            "metadata": {}
        },
        {
            "cell_type": "code",
            "execution_count": 7,
            "metadata": {},
            "outputs": [
                {
                    "output_type": "execute_result",
                    "data": {
                        "text/plain": [
                            "       SPEEDING  SEVERITYCODE\n",
                            "0             N             2\n",
                            "1             N             1\n",
                            "2             N             1\n",
                            "3             N             1\n",
                            "4             N             2\n",
                            "...         ...           ...\n",
                            "194668        N             2\n",
                            "194669        N             1\n",
                            "194670        N             2\n",
                            "194671        N             2\n",
                            "194672        N             1\n",
                            "\n",
                            "[194673 rows x 2 columns]"
                        ],
                        "text/html": "<div>\n<style scoped>\n    .dataframe tbody tr th:only-of-type {\n        vertical-align: middle;\n    }\n\n    .dataframe tbody tr th {\n        vertical-align: top;\n    }\n\n    .dataframe thead th {\n        text-align: right;\n    }\n</style>\n<table border=\"1\" class=\"dataframe\">\n  <thead>\n    <tr style=\"text-align: right;\">\n      <th></th>\n      <th>SPEEDING</th>\n      <th>SEVERITYCODE</th>\n    </tr>\n  </thead>\n  <tbody>\n    <tr>\n      <th>0</th>\n      <td>N</td>\n      <td>2</td>\n    </tr>\n    <tr>\n      <th>1</th>\n      <td>N</td>\n      <td>1</td>\n    </tr>\n    <tr>\n      <th>2</th>\n      <td>N</td>\n      <td>1</td>\n    </tr>\n    <tr>\n      <th>3</th>\n      <td>N</td>\n      <td>1</td>\n    </tr>\n    <tr>\n      <th>4</th>\n      <td>N</td>\n      <td>2</td>\n    </tr>\n    <tr>\n      <th>...</th>\n      <td>...</td>\n      <td>...</td>\n    </tr>\n    <tr>\n      <th>194668</th>\n      <td>N</td>\n      <td>2</td>\n    </tr>\n    <tr>\n      <th>194669</th>\n      <td>N</td>\n      <td>1</td>\n    </tr>\n    <tr>\n      <th>194670</th>\n      <td>N</td>\n      <td>2</td>\n    </tr>\n    <tr>\n      <th>194671</th>\n      <td>N</td>\n      <td>2</td>\n    </tr>\n    <tr>\n      <th>194672</th>\n      <td>N</td>\n      <td>1</td>\n    </tr>\n  </tbody>\n</table>\n<p>194673 rows × 2 columns</p>\n</div>"
                    },
                    "metadata": {},
                    "execution_count": 7
                }
            ],
            "source": [
                "df_Col = df_data[['SPEEDING','SEVERITYCODE']]\n",
                "df_Col"
            ]
        },
        {
            "cell_type": "code",
            "execution_count": 8,
            "metadata": {},
            "outputs": [
                {
                    "output_type": "execute_result",
                    "data": {
                        "text/plain": [
                            "  SPEEDING  SEVERITYCODE   count\n",
                            "0        N             1  130683\n",
                            "1        N             2   54657\n",
                            "2        Y             1    5802\n",
                            "3        Y             2    3531"
                        ],
                        "text/html": "<div>\n<style scoped>\n    .dataframe tbody tr th:only-of-type {\n        vertical-align: middle;\n    }\n\n    .dataframe tbody tr th {\n        vertical-align: top;\n    }\n\n    .dataframe thead th {\n        text-align: right;\n    }\n</style>\n<table border=\"1\" class=\"dataframe\">\n  <thead>\n    <tr style=\"text-align: right;\">\n      <th></th>\n      <th>SPEEDING</th>\n      <th>SEVERITYCODE</th>\n      <th>count</th>\n    </tr>\n  </thead>\n  <tbody>\n    <tr>\n      <th>0</th>\n      <td>N</td>\n      <td>1</td>\n      <td>130683</td>\n    </tr>\n    <tr>\n      <th>1</th>\n      <td>N</td>\n      <td>2</td>\n      <td>54657</td>\n    </tr>\n    <tr>\n      <th>2</th>\n      <td>Y</td>\n      <td>1</td>\n      <td>5802</td>\n    </tr>\n    <tr>\n      <th>3</th>\n      <td>Y</td>\n      <td>2</td>\n      <td>3531</td>\n    </tr>\n  </tbody>\n</table>\n</div>"
                    },
                    "metadata": {},
                    "execution_count": 8
                }
            ],
            "source": [
                "#grab the data that shows whether speeding was involved in the accident or not\n",
                "speeding_severity_totals = df_Col.groupby([\"SPEEDING\",\"SEVERITYCODE\"])[\"SEVERITYCODE\"].count().reset_index(name=\"count\")\n",
                "\n",
                "# Get the total number of speeding/not speeding\n",
                "n_tot = speeding_severity_totals[\"count\"][0] + speeding_severity_totals[\"count\"][1]\n",
                "y_tot = speeding_severity_totals[\"count\"][2] + speeding_severity_totals[\"count\"][3]\n",
                "\n",
                "#normalize the data\n",
                "speeding_severity_totals"
            ]
        },
        {
            "cell_type": "code",
            "execution_count": 11,
            "metadata": {},
            "outputs": [
                {
                    "output_type": "error",
                    "ename": "TypeError",
                    "evalue": "'Series' objects are mutable, thus they cannot be hashed",
                    "traceback": [
                        "\u001b[1;31m---------------------------------------------------------------------------\u001b[0m",
                        "\u001b[1;31mTypeError\u001b[0m                                 Traceback (most recent call last)",
                        "\u001b[1;32m<ipython-input-11-8c67f11b5c44>\u001b[0m in \u001b[0;36m<module>\u001b[1;34m\u001b[0m\n\u001b[1;32m----> 1\u001b[1;33m \u001b[0mspeeding_severity_totals\u001b[0m\u001b[1;33m.\u001b[0m\u001b[0mloc\u001b[0m\u001b[1;33m(\u001b[0m\u001b[0mspeeding_severity_totals\u001b[0m\u001b[1;33m[\u001b[0m\u001b[1;34m\"SPEEDING\"\u001b[0m\u001b[1;33m]\u001b[0m \u001b[1;33m==\u001b[0m \u001b[1;34m\"N\"\u001b[0m\u001b[1;33m)\u001b[0m\u001b[1;33m\u001b[0m\u001b[1;33m\u001b[0m\u001b[0m\n\u001b[0m",
                        "\u001b[1;32m~\\AppData\\Local\\Programs\\Python\\Python38-32\\lib\\site-packages\\pandas\\core\\indexing.py\u001b[0m in \u001b[0;36m__call__\u001b[1;34m(self, axis)\u001b[0m\n\u001b[0;32m    582\u001b[0m \u001b[1;33m\u001b[0m\u001b[0m\n\u001b[0;32m    583\u001b[0m         \u001b[1;32mif\u001b[0m \u001b[0maxis\u001b[0m \u001b[1;32mis\u001b[0m \u001b[1;32mnot\u001b[0m \u001b[1;32mNone\u001b[0m\u001b[1;33m:\u001b[0m\u001b[1;33m\u001b[0m\u001b[1;33m\u001b[0m\u001b[0m\n\u001b[1;32m--> 584\u001b[1;33m             \u001b[0maxis\u001b[0m \u001b[1;33m=\u001b[0m \u001b[0mself\u001b[0m\u001b[1;33m.\u001b[0m\u001b[0mobj\u001b[0m\u001b[1;33m.\u001b[0m\u001b[0m_get_axis_number\u001b[0m\u001b[1;33m(\u001b[0m\u001b[0maxis\u001b[0m\u001b[1;33m)\u001b[0m\u001b[1;33m\u001b[0m\u001b[1;33m\u001b[0m\u001b[0m\n\u001b[0m\u001b[0;32m    585\u001b[0m         \u001b[0mnew_self\u001b[0m\u001b[1;33m.\u001b[0m\u001b[0maxis\u001b[0m \u001b[1;33m=\u001b[0m \u001b[0maxis\u001b[0m\u001b[1;33m\u001b[0m\u001b[1;33m\u001b[0m\u001b[0m\n\u001b[0;32m    586\u001b[0m         \u001b[1;32mreturn\u001b[0m \u001b[0mnew_self\u001b[0m\u001b[1;33m\u001b[0m\u001b[1;33m\u001b[0m\u001b[0m\n",
                        "\u001b[1;32m~\\AppData\\Local\\Programs\\Python\\Python38-32\\lib\\site-packages\\pandas\\core\\generic.py\u001b[0m in \u001b[0;36m_get_axis_number\u001b[1;34m(cls, axis)\u001b[0m\n\u001b[0;32m    366\u001b[0m     \u001b[1;32mdef\u001b[0m \u001b[0m_get_axis_number\u001b[0m\u001b[1;33m(\u001b[0m\u001b[0mcls\u001b[0m\u001b[1;33m,\u001b[0m \u001b[0maxis\u001b[0m\u001b[1;33m:\u001b[0m \u001b[0mAxis\u001b[0m\u001b[1;33m)\u001b[0m \u001b[1;33m->\u001b[0m \u001b[0mint\u001b[0m\u001b[1;33m:\u001b[0m\u001b[1;33m\u001b[0m\u001b[1;33m\u001b[0m\u001b[0m\n\u001b[0;32m    367\u001b[0m         \u001b[1;32mtry\u001b[0m\u001b[1;33m:\u001b[0m\u001b[1;33m\u001b[0m\u001b[1;33m\u001b[0m\u001b[0m\n\u001b[1;32m--> 368\u001b[1;33m             \u001b[1;32mreturn\u001b[0m \u001b[0mcls\u001b[0m\u001b[1;33m.\u001b[0m\u001b[0m_AXIS_TO_AXIS_NUMBER\u001b[0m\u001b[1;33m[\u001b[0m\u001b[0maxis\u001b[0m\u001b[1;33m]\u001b[0m\u001b[1;33m\u001b[0m\u001b[1;33m\u001b[0m\u001b[0m\n\u001b[0m\u001b[0;32m    369\u001b[0m         \u001b[1;32mexcept\u001b[0m \u001b[0mKeyError\u001b[0m\u001b[1;33m:\u001b[0m\u001b[1;33m\u001b[0m\u001b[1;33m\u001b[0m\u001b[0m\n\u001b[0;32m    370\u001b[0m             \u001b[1;32mraise\u001b[0m \u001b[0mValueError\u001b[0m\u001b[1;33m(\u001b[0m\u001b[1;34mf\"No axis named {axis} for object type {cls.__name__}\"\u001b[0m\u001b[1;33m)\u001b[0m\u001b[1;33m\u001b[0m\u001b[1;33m\u001b[0m\u001b[0m\n",
                        "\u001b[1;32m~\\AppData\\Local\\Programs\\Python\\Python38-32\\lib\\site-packages\\pandas\\core\\generic.py\u001b[0m in \u001b[0;36m__hash__\u001b[1;34m(self)\u001b[0m\n\u001b[0;32m   1663\u001b[0m \u001b[1;33m\u001b[0m\u001b[0m\n\u001b[0;32m   1664\u001b[0m     \u001b[1;32mdef\u001b[0m \u001b[0m__hash__\u001b[0m\u001b[1;33m(\u001b[0m\u001b[0mself\u001b[0m\u001b[1;33m)\u001b[0m\u001b[1;33m:\u001b[0m\u001b[1;33m\u001b[0m\u001b[1;33m\u001b[0m\u001b[0m\n\u001b[1;32m-> 1665\u001b[1;33m         raise TypeError(\n\u001b[0m\u001b[0;32m   1666\u001b[0m             \u001b[1;34mf\"{repr(type(self).__name__)} objects are mutable, \"\u001b[0m\u001b[1;33m\u001b[0m\u001b[1;33m\u001b[0m\u001b[0m\n\u001b[0;32m   1667\u001b[0m             \u001b[1;34mf\"thus they cannot be hashed\"\u001b[0m\u001b[1;33m\u001b[0m\u001b[1;33m\u001b[0m\u001b[0m\n",
                        "\u001b[1;31mTypeError\u001b[0m: 'Series' objects are mutable, thus they cannot be hashed"
                    ]
                }
            ],
            "source": [
                "speeding_severity_totals.loc(speeding_severity_totals[\"SPEEDING\"] == \"N\")"
            ]
        },
        {
            "cell_type": "code",
            "execution_count": null,
            "metadata": {},
            "outputs": [],
            "source": []
        }
    ],
    "metadata": {
        "kernelspec": {
            "display_name": "Python 3.8.2 32-bit",
            "language": "python",
            "name": "python38232bit638451a914c04aa5a49c279965cd527f"
        },
        "language_info": {
            "name": "python",
            "version": "3.8.5-final",
            "mimetype": "text/x-python",
            "codemirror_mode": {
                "name": "ipython",
                "version": 3
            },
            "pygments_lexer": "ipython3"
        }
    },
    "nbformat": 4,
    "nbformat_minor": 1
}